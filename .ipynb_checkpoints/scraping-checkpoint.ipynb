{
 "cells": [
  {
   "cell_type": "markdown",
   "id": "c3ae0f29-b1ce-4604-a5ef-89816084f5a2",
   "metadata": {},
   "source": [
    "## Dependencies"
   ]
  },
  {
   "cell_type": "code",
   "execution_count": 2,
   "id": "e35ba0af-a9bc-4b24-9b68-9d825f32ec97",
   "metadata": {},
   "outputs": [
    {
     "name": "stdout",
     "output_type": "stream",
     "text": [
      "Requirement already satisfied: bs4 in /home/ss/anaconda3/lib/python3.12/site-packages (0.0.2)\n",
      "Requirement already satisfied: beautifulsoup4 in /home/ss/anaconda3/lib/python3.12/site-packages (from bs4) (4.12.3)\n",
      "Requirement already satisfied: soupsieve>1.2 in /home/ss/anaconda3/lib/python3.12/site-packages (from beautifulsoup4->bs4) (2.5)\n"
     ]
    }
   ],
   "source": [
    "!pip install bs4 #beautiful soup"
   ]
  },
  {
   "cell_type": "code",
   "execution_count": 3,
   "id": "bf1e93b9-0eb0-4e3e-ad35-6dc44b2515b9",
   "metadata": {},
   "outputs": [
    {
     "name": "stdout",
     "output_type": "stream",
     "text": [
      "Requirement already satisfied: pandas in /home/ss/anaconda3/lib/python3.12/site-packages (2.2.2)\n",
      "Requirement already satisfied: numpy>=1.26.0 in /home/ss/anaconda3/lib/python3.12/site-packages (from pandas) (1.26.4)\n",
      "Requirement already satisfied: python-dateutil>=2.8.2 in /home/ss/anaconda3/lib/python3.12/site-packages (from pandas) (2.9.0.post0)\n",
      "Requirement already satisfied: pytz>=2020.1 in /home/ss/anaconda3/lib/python3.12/site-packages (from pandas) (2024.1)\n",
      "Requirement already satisfied: tzdata>=2022.7 in /home/ss/anaconda3/lib/python3.12/site-packages (from pandas) (2023.3)\n",
      "Requirement already satisfied: six>=1.5 in /home/ss/anaconda3/lib/python3.12/site-packages (from python-dateutil>=2.8.2->pandas) (1.16.0)\n"
     ]
    }
   ],
   "source": [
    "!pip install pandas"
   ]
  },
  {
   "cell_type": "code",
   "execution_count": 5,
   "id": "5401141c-ece7-467c-adc2-240942f00dd8",
   "metadata": {},
   "outputs": [
    {
     "name": "stdout",
     "output_type": "stream",
     "text": [
      "Requirement already satisfied: requests in /home/ss/anaconda3/lib/python3.12/site-packages (2.32.3)\n",
      "Requirement already satisfied: charset-normalizer<4,>=2 in /home/ss/anaconda3/lib/python3.12/site-packages (from requests) (3.3.2)\n",
      "Requirement already satisfied: idna<4,>=2.5 in /home/ss/anaconda3/lib/python3.12/site-packages (from requests) (3.7)\n",
      "Requirement already satisfied: urllib3<3,>=1.21.1 in /home/ss/anaconda3/lib/python3.12/site-packages (from requests) (2.2.3)\n",
      "Requirement already satisfied: certifi>=2017.4.17 in /home/ss/anaconda3/lib/python3.12/site-packages (from requests) (2024.8.30)\n"
     ]
    }
   ],
   "source": [
    "!pip install requests"
   ]
  },
  {
   "cell_type": "code",
   "execution_count": 6,
   "id": "50372bec-d96b-4a73-ad50-b9d64dd8ea4f",
   "metadata": {},
   "outputs": [
    {
     "name": "stdout",
     "output_type": "stream",
     "text": [
      "Requirement already satisfied: pandas in /home/ss/anaconda3/lib/python3.12/site-packages (2.2.2)\n",
      "Requirement already satisfied: numpy>=1.26.0 in /home/ss/anaconda3/lib/python3.12/site-packages (from pandas) (1.26.4)\n",
      "Requirement already satisfied: python-dateutil>=2.8.2 in /home/ss/anaconda3/lib/python3.12/site-packages (from pandas) (2.9.0.post0)\n",
      "Requirement already satisfied: pytz>=2020.1 in /home/ss/anaconda3/lib/python3.12/site-packages (from pandas) (2024.1)\n",
      "Requirement already satisfied: tzdata>=2022.7 in /home/ss/anaconda3/lib/python3.12/site-packages (from pandas) (2023.3)\n",
      "Requirement already satisfied: six>=1.5 in /home/ss/anaconda3/lib/python3.12/site-packages (from python-dateutil>=2.8.2->pandas) (1.16.0)\n"
     ]
    }
   ],
   "source": [
    "!pip install pandas"
   ]
  },
  {
   "cell_type": "markdown",
   "id": "f2a937e0-5e61-4a0e-90d8-57304f4ef70a",
   "metadata": {},
   "source": [
    "## Imports"
   ]
  },
  {
   "cell_type": "code",
   "execution_count": 7,
   "id": "93d466ff-54c1-44b9-a7ce-6639bfefd909",
   "metadata": {},
   "outputs": [],
   "source": [
    "from bs4 import BeautifulSoup"
   ]
  },
  {
   "cell_type": "code",
   "execution_count": 8,
   "id": "ba135a5d-fac9-4c4b-ada1-2874a8ee7b80",
   "metadata": {},
   "outputs": [],
   "source": [
    "import pandas as pd"
   ]
  },
  {
   "cell_type": "code",
   "execution_count": 9,
   "id": "0d1e5a76-3247-4428-a5be-9b689e79c522",
   "metadata": {},
   "outputs": [],
   "source": [
    "import requests"
   ]
  },
  {
   "cell_type": "code",
   "execution_count": 26,
   "id": "8aeb8e78-b8cf-4ab8-b4ef-fc07118a2a8f",
   "metadata": {},
   "outputs": [],
   "source": [
    "num=1"
   ]
  },
  {
   "cell_type": "code",
   "execution_count": 28,
   "id": "4ed6eee6-f47d-4800-8709-dd8658869048",
   "metadata": {},
   "outputs": [],
   "source": [
    "URL = f\"https://www.amazon.in/s?k=monitor&page={num}&crid=GI4LYQ3PXVBR&sprefix=monito%2Caps%2C232&xpid=3iscCiIvIqlcq&ref=sr_pg_5\""
   ]
  },
  {
   "cell_type": "markdown",
   "id": "b54a7c50-8234-4caa-97eb-b2b779561269",
   "metadata": {},
   "source": [
    "## Getting user agent"
   ]
  },
  {
   "cell_type": "code",
   "execution_count": 11,
   "id": "85e8cffa-6b8c-45f1-b68a-af7857874473",
   "metadata": {},
   "outputs": [],
   "source": [
    "# you can use whatismybrowser.com and get user agent or just this"
   ]
  },
  {
   "cell_type": "code",
   "execution_count": 12,
   "id": "786c98d3-ab0a-44d3-abc5-00e97c071053",
   "metadata": {},
   "outputs": [
    {
     "name": "stdout",
     "output_type": "stream",
     "text": [
      "Collecting fake-useragent\n",
      "  Downloading fake_useragent-2.2.0-py3-none-any.whl.metadata (17 kB)\n",
      "Downloading fake_useragent-2.2.0-py3-none-any.whl (161 kB)\n",
      "Installing collected packages: fake-useragent\n",
      "Successfully installed fake-useragent-2.2.0\n"
     ]
    }
   ],
   "source": [
    "!pip install fake-useragent"
   ]
  },
  {
   "cell_type": "code",
   "execution_count": 15,
   "id": "91315e24-59a4-40d7-a6bc-f3ae778129bf",
   "metadata": {},
   "outputs": [],
   "source": [
    "from fake_useragent import UserAgent"
   ]
  },
  {
   "cell_type": "code",
   "execution_count": 16,
   "id": "44b776c0-ed54-4d5b-a50d-6b8b538b9b43",
   "metadata": {},
   "outputs": [],
   "source": [
    "ua = UserAgent()"
   ]
  },
  {
   "cell_type": "code",
   "execution_count": 17,
   "id": "84924491-530f-4b09-80ca-a041f40563e1",
   "metadata": {},
   "outputs": [
    {
     "name": "stdout",
     "output_type": "stream",
     "text": [
      "Mozilla/5.0 (Linux; Android 10; K) AppleWebKit/537.36 (KHTML, like Gecko) SamsungBrowser/27.0 Chrome/125.0.0.0 Mobile Safari/537.36\n"
     ]
    }
   ],
   "source": [
    "print(ua.random)"
   ]
  },
  {
   "cell_type": "code",
   "execution_count": 20,
   "id": "1a439f23-8a41-4cd7-87cb-3c383131f7ac",
   "metadata": {},
   "outputs": [],
   "source": [
    "HEADERS = ({'User-Agent': ua.random, 'Accept-Language':'en-US, en;q=0.5'})"
   ]
  },
  {
   "cell_type": "code",
   "execution_count": 30,
   "id": "9ad1cd2d-aeaa-42f3-aae6-d7714e5b7b2e",
   "metadata": {},
   "outputs": [],
   "source": [
    "webpage = requests.get(URL, headers=HEADERS)"
   ]
  },
  {
   "cell_type": "code",
   "execution_count": 31,
   "id": "7ebb37d9-eae9-4014-8f4b-13f34262a087",
   "metadata": {},
   "outputs": [
    {
     "data": {
      "text/plain": [
       "<Response [200]>"
      ]
     },
     "execution_count": 31,
     "metadata": {},
     "output_type": "execute_result"
    }
   ],
   "source": [
    "webpage"
   ]
  },
  {
   "cell_type": "code",
   "execution_count": 32,
   "id": "ff5d5120-efc8-46ec-8ee9-e720c695b553",
   "metadata": {},
   "outputs": [],
   "source": [
    "soup = BeautifulSoup(webpage.content, 'html.parser')"
   ]
  },
  {
   "cell_type": "code",
   "execution_count": 44,
   "id": "ee09cdaa-5a59-429a-998d-0c807b004f0f",
   "metadata": {},
   "outputs": [],
   "source": [
    "links = soup.find_all(\"a\", attrs=\"a-link-normal s-line-clamp-2 s-line-clamp-3-for-col-12 s-link-style a-text-normal\")"
   ]
  },
  {
   "cell_type": "code",
   "execution_count": 47,
   "id": "488610ff-540e-419c-9638-17dd2d38c03c",
   "metadata": {},
   "outputs": [],
   "source": [
    "link = links[0]"
   ]
  },
  {
   "cell_type": "code",
   "execution_count": 52,
   "id": "5be263b0-04cc-479f-9a4d-8a9de3aa081a",
   "metadata": {},
   "outputs": [],
   "source": [
    "product = \"https://amazon.in\" + link.get(\"href\")"
   ]
  },
  {
   "cell_type": "code",
   "execution_count": 53,
   "id": "390f306e-43a2-4458-908a-5ba7d1052fdb",
   "metadata": {},
   "outputs": [
    {
     "data": {
      "text/plain": [
       "'https://amazon.in/sspa/click?ie=UTF8&spc=MToxODgwMTc4NjM2NDk3MjUwOjE3NTIwNzc2NDI6c3BfYXRmOjMwMDU1NjQ2Mzg0NzczMjo6MDo6&url=%2FBenQ-GW2791-DisplayPort-TUV-Certified-Flicker-Free%2Fdp%2FB0DJHG9MXM%2Fref%3Dsr_1_1_sspa%3Fcrid%3DGI4LYQ3PXVBR%26dib%3DeyJ2IjoiMSJ9.LrchXVPca0bGQX3jKJDq5TxbLU74UoSiDt-CzDYoKRA7wAVTEirqI8WC-Jw7vk5hr5WQCuysB0SiBMwjTGvqv9fj3Ppa-3wG2NHvqRsWeknx4aepRv9HaRYsP8ZfXIVAXlSf8bKWKLHAtwGcMfmDZ1Sfl9DMC0PKWk0hJCLAOAziQ086CdiMg1xyeFlW_oXu3-hIfnBlKKsSvMjOMKQATz6nnNuTQorl__Anyv6gv4A.QeNbhuUkf7_-jxsnVJCcuZHL78dNjCYJAGQGddrzHUo%26dib_tag%3Dse%26keywords%3Dmonitor%26qid%3D1752077642%26sprefix%3Dmonito%252Caps%252C232%26sr%3D8-1-spons%26xpid%3D3iscCiIvIqlcq%26sp_csd%3Dd2lkZ2V0TmFtZT1zcF9hdGY%26psc%3D1&cr=ZAZ'"
      ]
     },
     "execution_count": 53,
     "metadata": {},
     "output_type": "execute_result"
    }
   ],
   "source": [
    "product"
   ]
  },
  {
   "cell_type": "code",
   "execution_count": 54,
   "id": "60f8c283-23cc-41b2-b8a8-7515d7c32ccd",
   "metadata": {},
   "outputs": [],
   "source": [
    "new_webpage = requests.get(product, headers=HEADERS)"
   ]
  },
  {
   "cell_type": "code",
   "execution_count": 57,
   "id": "3c2f6da2-8481-4be3-a903-65708cc64e89",
   "metadata": {},
   "outputs": [],
   "source": [
    "new_soup = BeautifulSoup(new_webpage.content, 'html.parser')"
   ]
  },
  {
   "cell_type": "code",
   "execution_count": 61,
   "id": "c6197554-31ab-43b1-8ab9-08836e675a42",
   "metadata": {},
   "outputs": [],
   "source": [
    "title = new_soup.find('h1')"
   ]
  },
  {
   "cell_type": "code",
   "execution_count": 67,
   "id": "896b65e5-b73c-41b7-8900-c91a04df5a2d",
   "metadata": {},
   "outputs": [],
   "source": [
    "title = title.find(\"span\").text"
   ]
  },
  {
   "cell_type": "code",
   "execution_count": 68,
   "id": "5a46b539-02dd-410e-bd38-7beb8f200567",
   "metadata": {},
   "outputs": [],
   "source": [
    "title = title.strip()"
   ]
  },
  {
   "cell_type": "code",
   "execution_count": 69,
   "id": "ecd1442b-52e4-4efb-8210-fa86e0444e5e",
   "metadata": {},
   "outputs": [
    {
     "data": {
      "text/plain": [
       "'BenQ GW2791 27” 1920x1080 FHD 100Hz IPS Eye-Care 99% sRGB Monitor| HDMI| DisplayPort| Ultra Slim Bezel| TUV-Certified| Flicker-Free| Low Blue Light Plus (Black)'"
      ]
     },
     "execution_count": 69,
     "metadata": {},
     "output_type": "execute_result"
    }
   ],
   "source": [
    "title"
   ]
  },
  {
   "cell_type": "code",
   "execution_count": 98,
   "id": "16c74ae2-cf6c-449c-a7ca-63ad6ccb7cc1",
   "metadata": {},
   "outputs": [],
   "source": [
    "price= new_soup.find_all(\"span\", attrs=\"a-price-whole\")"
   ]
  },
  {
   "cell_type": "code",
   "execution_count": 101,
   "id": "21a7b999-4079-4452-bfb0-ba5e0ed40bab",
   "metadata": {},
   "outputs": [],
   "source": [
    "price= price[0].text"
   ]
  },
  {
   "cell_type": "code",
   "execution_count": 103,
   "id": "f04e85a1-4106-4306-abb8-7b980dbaeee7",
   "metadata": {},
   "outputs": [
    {
     "data": {
      "text/plain": [
       "'10,109'"
      ]
     },
     "execution_count": 103,
     "metadata": {},
     "output_type": "execute_result"
    }
   ],
   "source": [
    "price.strip('.')"
   ]
  },
  {
   "cell_type": "code",
   "execution_count": 108,
   "id": "dbb7acc1-7703-4e48-ad5c-ed6ff1e9be6f",
   "metadata": {},
   "outputs": [],
   "source": [
    "price = price.replace(',', '')"
   ]
  },
  {
   "cell_type": "code",
   "execution_count": 114,
   "id": "64fbbb0c-e0e3-4668-a16b-8ff1ec20951d",
   "metadata": {},
   "outputs": [
    {
     "data": {
      "text/plain": [
       "'10109'"
      ]
     },
     "execution_count": 114,
     "metadata": {},
     "output_type": "execute_result"
    }
   ],
   "source": [
    "prprice.strip('.')"
   ]
  },
  {
   "cell_type": "code",
   "execution_count": 113,
   "id": "77e9b7a0-0bed-4a59-8824-0f16cca2b75a",
   "metadata": {},
   "outputs": [
    {
     "data": {
      "text/plain": [
       "'10109.'"
      ]
     },
     "execution_count": 113,
     "metadata": {},
     "output_type": "execute_result"
    }
   ],
   "source": [
    "(price)"
   ]
  },
  {
   "cell_type": "code",
   "execution_count": null,
   "id": "6baf3c28-e211-4f36-a576-6f35485fe46d",
   "metadata": {},
   "outputs": [],
   "source": []
  }
 ],
 "metadata": {
  "kernelspec": {
   "display_name": "Python 3 (ipykernel)",
   "language": "python",
   "name": "python3"
  },
  "language_info": {
   "codemirror_mode": {
    "name": "ipython",
    "version": 3
   },
   "file_extension": ".py",
   "mimetype": "text/x-python",
   "name": "python",
   "nbconvert_exporter": "python",
   "pygments_lexer": "ipython3",
   "version": "3.12.7"
  }
 },
 "nbformat": 4,
 "nbformat_minor": 5
}
